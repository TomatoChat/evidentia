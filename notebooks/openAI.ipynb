{
 "cells": [
  {
   "cell_type": "code",
   "execution_count": null,
   "metadata": {},
   "outputs": [],
   "source": [
    "import importlib\n",
    "import sys\n",
    "import os\n",
    "from dotenv import load_dotenv\n",
    "load_dotenv()\n",
    "os.chdir(os.getenv(\"PROJECT_DIRECTORY\"))\n",
    "sys.path.append(os.getenv(\"PROJECT_DIRECTORY\"))\n",
    "\n",
    "import json\n",
    "import libs.utils as utils\n",
    "importlib.reload(utils)\n",
    "import libs.openai as openaiAnalytics\n",
    "importlib.reload(openaiAnalytics)"
   ]
  },
  {
   "cell_type": "code",
   "execution_count": null,
   "metadata": {},
   "outputs": [],
   "source": [
    "brandName = \"jethr\"\n",
    "brandWebsite = \"jethr.com\"\n",
    "brandCountry = \"italy\"\n",
    "brandInformation = utils.getCompanyInfo(brandName, brandWebsite, brandCountry)\n",
    "brandDescription = brandInformation['description']\n",
    "brandIndustry = brandInformation['industry']\n",
    "brandCompetitors = brandInformation['competitors']\n",
    "brandName = brandInformation['name']\n",
    "queries = openaiAnalytics.getCoherentQueries(brandName, brandCountry, brandDescription, brandIndustry, 10)\n",
    "queriesResults = openaiAnalytics.runBulkQueries(queries)\n",
    "\n",
    "for result in queriesResults:\n",
    "    # Extracting mentioned brands\n",
    "    messageText = list(result['messageTexts'].values())[0]\n",
    "    mentionedBrands = utils.extractMentionedBrands(messageText)\n",
    "    result['mentionedBrands'] = mentionedBrands\n",
    "\n",
    "    # Organizing used websites\n",
    "    usedWebsites = []\n",
    "\n",
    "    for annotation_list in result.get('messageAnnotations', {}).values():\n",
    "        for annotation in annotation_list:\n",
    "            if 'url' in annotation and 'title' in annotation:\n",
    "                usedWebsites.append({\n",
    "                    'url': annotation['url'],\n",
    "                    'websiteTitle': annotation['title']\n",
    "                })\n",
    "    \n",
    "    result['usedWebsites'] = usedWebsites\n",
    "\n",
    "with open(\"data/queriesResults.json\", \"w\") as f:\n",
    "    json.dump(queriesResults, f, indent=4)"
   ]
  },
  {
   "cell_type": "code",
   "execution_count": 2,
   "metadata": {},
   "outputs": [],
   "source": [
    "with open(\"data/queriesResults.json\", \"r\") as f:\n",
    "    queriesResults = json.load(f)\n",
    "\n",
    "for result in queriesResults:\n",
    "    # Extracting mentioned brands\n",
    "    messageText = list(result['messageTexts'].values())[0]\n",
    "    mentionedBrands = utils.extractMentionedBrands(messageText)\n",
    "    result['mentionedBrands'] = mentionedBrands\n",
    "\n",
    "    # Organizing used websites\n",
    "    usedWebsites = []\n",
    "\n",
    "    for annotation_list in result.get('messageAnnotations', {}).values():\n",
    "        for annotation in annotation_list:\n",
    "            if 'url' in annotation and 'title' in annotation:\n",
    "                usedWebsites.append({\n",
    "                    'url': annotation['url'],\n",
    "                    'websiteTitle': annotation['title']\n",
    "                })\n",
    "    \n",
    "    result['usedWebsites'] = usedWebsites"
   ]
  }
 ],
 "metadata": {
  "kernelspec": {
   "display_name": "geo",
   "language": "python",
   "name": "python3"
  },
  "language_info": {
   "codemirror_mode": {
    "name": "ipython",
    "version": 3
   },
   "file_extension": ".py",
   "mimetype": "text/x-python",
   "name": "python",
   "nbconvert_exporter": "python",
   "pygments_lexer": "ipython3",
   "version": "3.13.5"
  }
 },
 "nbformat": 4,
 "nbformat_minor": 2
}
