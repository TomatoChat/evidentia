{
 "cells": [
  {
   "cell_type": "code",
   "execution_count": 1,
   "metadata": {},
   "outputs": [],
   "source": [
    "import sys\n",
    "import os\n",
    "from dotenv import load_dotenv\n",
    "load_dotenv()\n",
    "os.chdir(os.getenv(\"PROJECT_DIRECTORY\"))\n",
    "sys.path.append(os.getenv(\"PROJECT_DIRECTORY\"))\n",
    "\n",
    "import libs.utils as utils\n",
    "import libs.openai as openaiAnalytics"
   ]
  },
  {
   "cell_type": "code",
   "execution_count": null,
   "metadata": {},
   "outputs": [],
   "source": [
    "brandName = \"jethr\"\n",
    "brandWebsite = \"jethr.com\"\n",
    "brandCountry = \"italy\"\n",
    "brandInformation = utils.getCompanyInfo(brandName, brandWebsite, brandCountry)\n",
    "brandDescription = brandInformation['description']\n",
    "brandIndustry = brandInformation['industry']\n",
    "brandCompetitors = brandInformation['competitors']\n",
    "brandName = brandInformation['name']\n",
    "queries = openaiAnalytics.getCoherentQueries(brandName, brandCountry, brandDescription, brandIndustry, 10)"
   ]
  }
 ],
 "metadata": {
  "kernelspec": {
   "display_name": "geo",
   "language": "python",
   "name": "python3"
  },
  "language_info": {
   "codemirror_mode": {
    "name": "ipython",
    "version": 3
   },
   "file_extension": ".py",
   "mimetype": "text/x-python",
   "name": "python",
   "nbconvert_exporter": "python",
   "pygments_lexer": "ipython3",
   "version": "3.13.5"
  }
 },
 "nbformat": 4,
 "nbformat_minor": 2
}
